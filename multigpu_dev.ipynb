{
 "cells": [
  {
   "cell_type": "markdown",
   "metadata": {},
   "source": [
    "# SA3D MultiGPU Development\n",
    "\n",
    "This notebook is intended to faciltiate development and testing of a multi-GPU implementation of the `aind-large-scale-prediction` library."
   ]
  },
  {
   "cell_type": "markdown",
   "metadata": {},
   "source": [
    "## Example Dataload from Zarr\n",
    "\n",
    "This section largely follows the code in `scripts/eample_create_data_loader.py` and is intended simply to illustrate data loading without multi-GPU processing."
   ]
  },
  {
   "cell_type": "code",
   "execution_count": 1,
   "metadata": {},
   "outputs": [],
   "source": [
    "import logging\n",
    "import multiprocessing\n",
    "import os\n",
    "import time\n",
    "from datetime import datetime\n",
    "\n",
    "import torch\n",
    "import matplotlib.pyplot as plt\n",
    "import numpy as np\n",
    "import zarr\n",
    "import s3fs\n",
    "\n",
    "from aind_large_scale_prediction.generator.dataset import create_data_loader\n",
    "from aind_large_scale_prediction.generator.utils import (\n",
    "    concatenate_lazy_data,\n",
    "    estimate_output_volume,\n",
    "    get_suggested_cpu_count,\n",
    "    recover_global_position,\n",
    "    unpad_global_coords,\n",
    ")"
   ]
  },
  {
   "cell_type": "code",
   "execution_count": 9,
   "metadata": {},
   "outputs": [],
   "source": [
    "DATASET_PATH = \"s3://aind-open-data/SmartSPIM_709392_2024-01-29_18-33-39_stitched_2024-02-04_12-45-58/image_tile_fusing/OMEZarr/Ex_639_Em_667.zarr\""
   ]
  },
  {
   "cell_type": "code",
   "execution_count": 10,
   "metadata": {},
   "outputs": [
    {
     "name": "stdout",
     "output_type": "stream",
     "text": [
      "/\n",
      " ├── 0 (1, 1, 3990, 10232, 7437) uint16\n",
      " ├── 1 (1, 1, 1995, 5116, 3718) uint16\n",
      " ├── 2 (1, 1, 997, 2558, 1859) uint16\n",
      " └── 3 (1, 1, 498, 1279, 929) uint16\n"
     ]
    }
   ],
   "source": [
    "s3 = s3fs.S3FileSystem()  \n",
    "s3 = s3fs.S3FileSystem(secret=os.getenv(\"AWS_SECRET_ACCESS_KEY\"))  # Uses default AWS credentials\n",
    "\n",
    "# Try opening the Zarr dataset directly#\n",
    "store = zarr.open_group(s3fs.S3Map(DATASET_PATH, s3=s3), mode=\"r\")\n",
    "print(store.tree())  # This should print the Zarr directory structure"
   ]
  },
  {
   "cell_type": "code",
   "execution_count": 11,
   "metadata": {},
   "outputs": [],
   "source": [
    "multiscale = \"3\"\n",
    "target_size_mb = 1024\n",
    "n_workers = 0\n",
    "batch_size = 1\n",
    "prediction_chunksize = (128, 128, 128)\n",
    "overlap_prediction_chunksize = (30, 30, 30)\n",
    "super_chunksize = (512, 512, 512)\n",
    "\n",
    "lazy_data = concatenate_lazy_data(\n",
    "    dataset_paths=[DATASET_PATH],\n",
    "    multiscales=[multiscale],\n",
    "    concat_axis=-4,\n",
    ")"
   ]
  },
  {
   "cell_type": "code",
   "execution_count": 12,
   "metadata": {},
   "outputs": [
    {
     "data": {
      "text/html": [
       "<table>\n",
       "    <tr>\n",
       "        <td>\n",
       "            <table style=\"border-collapse: collapse;\">\n",
       "                <thead>\n",
       "                    <tr>\n",
       "                        <td> </td>\n",
       "                        <th> Array </th>\n",
       "                        <th> Chunk </th>\n",
       "                    </tr>\n",
       "                </thead>\n",
       "                <tbody>\n",
       "                    \n",
       "                    <tr>\n",
       "                        <th> Bytes </th>\n",
       "                        <td> 1.10 GiB </td>\n",
       "                        <td> 4.00 MiB </td>\n",
       "                    </tr>\n",
       "                    \n",
       "                    <tr>\n",
       "                        <th> Shape </th>\n",
       "                        <td> (1, 1, 498, 1279, 929) </td>\n",
       "                        <td> (1, 1, 128, 128, 128) </td>\n",
       "                    </tr>\n",
       "                    <tr>\n",
       "                        <th> Dask graph </th>\n",
       "                        <td colspan=\"2\"> 320 chunks in 2 graph layers </td>\n",
       "                    </tr>\n",
       "                    <tr>\n",
       "                        <th> Data type </th>\n",
       "                        <td colspan=\"2\"> uint16 numpy.ndarray </td>\n",
       "                    </tr>\n",
       "                </tbody>\n",
       "            </table>\n",
       "        </td>\n",
       "        <td>\n",
       "        <svg width=\"354\" height=\"197\" style=\"stroke:rgb(0,0,0);stroke-width:1\" >\n",
       "\n",
       "  <!-- Horizontal lines -->\n",
       "  <line x1=\"0\" y1=\"0\" x2=\"25\" y2=\"0\" style=\"stroke-width:2\" />\n",
       "  <line x1=\"0\" y1=\"25\" x2=\"25\" y2=\"25\" style=\"stroke-width:2\" />\n",
       "\n",
       "  <!-- Vertical lines -->\n",
       "  <line x1=\"0\" y1=\"0\" x2=\"0\" y2=\"25\" style=\"stroke-width:2\" />\n",
       "  <line x1=\"25\" y1=\"0\" x2=\"25\" y2=\"25\" style=\"stroke-width:2\" />\n",
       "\n",
       "  <!-- Colored Rectangle -->\n",
       "  <polygon points=\"0.0,0.0 25.412616514582485,0.0 25.412616514582485,25.412616514582485 0.0,25.412616514582485\" style=\"fill:#ECB172A0;stroke-width:0\"/>\n",
       "\n",
       "  <!-- Text -->\n",
       "  <text x=\"12.706308\" y=\"45.412617\" font-size=\"1.0rem\" font-weight=\"100\" text-anchor=\"middle\" >1</text>\n",
       "  <text x=\"45.412617\" y=\"12.706308\" font-size=\"1.0rem\" font-weight=\"100\" text-anchor=\"middle\" transform=\"rotate(0,45.412617,12.706308)\">1</text>\n",
       "\n",
       "\n",
       "  <!-- Horizontal lines -->\n",
       "  <line x1=\"95\" y1=\"0\" x2=\"122\" y2=\"27\" style=\"stroke-width:2\" />\n",
       "  <line x1=\"95\" y1=\"12\" x2=\"122\" y2=\"39\" />\n",
       "  <line x1=\"95\" y1=\"24\" x2=\"122\" y2=\"51\" />\n",
       "  <line x1=\"95\" y1=\"36\" x2=\"122\" y2=\"63\" />\n",
       "  <line x1=\"95\" y1=\"48\" x2=\"122\" y2=\"75\" />\n",
       "  <line x1=\"95\" y1=\"60\" x2=\"122\" y2=\"87\" />\n",
       "  <line x1=\"95\" y1=\"72\" x2=\"122\" y2=\"99\" />\n",
       "  <line x1=\"95\" y1=\"84\" x2=\"122\" y2=\"111\" />\n",
       "  <line x1=\"95\" y1=\"96\" x2=\"122\" y2=\"123\" />\n",
       "  <line x1=\"95\" y1=\"108\" x2=\"122\" y2=\"135\" />\n",
       "  <line x1=\"95\" y1=\"120\" x2=\"122\" y2=\"147\" style=\"stroke-width:2\" />\n",
       "\n",
       "  <!-- Vertical lines -->\n",
       "  <line x1=\"95\" y1=\"0\" x2=\"95\" y2=\"120\" style=\"stroke-width:2\" />\n",
       "  <line x1=\"102\" y1=\"7\" x2=\"102\" y2=\"127\" />\n",
       "  <line x1=\"109\" y1=\"14\" x2=\"109\" y2=\"134\" />\n",
       "  <line x1=\"116\" y1=\"21\" x2=\"116\" y2=\"141\" />\n",
       "  <line x1=\"122\" y1=\"27\" x2=\"122\" y2=\"147\" style=\"stroke-width:2\" />\n",
       "\n",
       "  <!-- Colored Rectangle -->\n",
       "  <polygon points=\"95.0,0.0 122.48470772202549,27.484707722025483 122.48470772202549,147.4847077220255 95.0,120.0\" style=\"fill:#ECB172A0;stroke-width:0\"/>\n",
       "\n",
       "  <!-- Horizontal lines -->\n",
       "  <line x1=\"95\" y1=\"0\" x2=\"182\" y2=\"0\" style=\"stroke-width:2\" />\n",
       "  <line x1=\"102\" y1=\"7\" x2=\"189\" y2=\"7\" />\n",
       "  <line x1=\"109\" y1=\"14\" x2=\"196\" y2=\"14\" />\n",
       "  <line x1=\"116\" y1=\"21\" x2=\"203\" y2=\"21\" />\n",
       "  <line x1=\"122\" y1=\"27\" x2=\"209\" y2=\"27\" style=\"stroke-width:2\" />\n",
       "\n",
       "  <!-- Vertical lines -->\n",
       "  <line x1=\"95\" y1=\"0\" x2=\"122\" y2=\"27\" style=\"stroke-width:2\" />\n",
       "  <line x1=\"107\" y1=\"0\" x2=\"134\" y2=\"27\" />\n",
       "  <line x1=\"119\" y1=\"0\" x2=\"146\" y2=\"27\" />\n",
       "  <line x1=\"131\" y1=\"0\" x2=\"158\" y2=\"27\" />\n",
       "  <line x1=\"143\" y1=\"0\" x2=\"170\" y2=\"27\" />\n",
       "  <line x1=\"155\" y1=\"0\" x2=\"182\" y2=\"27\" />\n",
       "  <line x1=\"167\" y1=\"0\" x2=\"194\" y2=\"27\" />\n",
       "  <line x1=\"179\" y1=\"0\" x2=\"206\" y2=\"27\" />\n",
       "  <line x1=\"182\" y1=\"0\" x2=\"209\" y2=\"27\" style=\"stroke-width:2\" />\n",
       "\n",
       "  <!-- Colored Rectangle -->\n",
       "  <polygon points=\"95.0,0.0 182.1618451915559,0.0 209.6465529135814,27.484707722025483 122.48470772202549,27.484707722025483\" style=\"fill:#ECB172A0;stroke-width:0\"/>\n",
       "\n",
       "  <!-- Horizontal lines -->\n",
       "  <line x1=\"122\" y1=\"27\" x2=\"209\" y2=\"27\" style=\"stroke-width:2\" />\n",
       "  <line x1=\"122\" y1=\"39\" x2=\"209\" y2=\"39\" />\n",
       "  <line x1=\"122\" y1=\"51\" x2=\"209\" y2=\"51\" />\n",
       "  <line x1=\"122\" y1=\"63\" x2=\"209\" y2=\"63\" />\n",
       "  <line x1=\"122\" y1=\"75\" x2=\"209\" y2=\"75\" />\n",
       "  <line x1=\"122\" y1=\"87\" x2=\"209\" y2=\"87\" />\n",
       "  <line x1=\"122\" y1=\"99\" x2=\"209\" y2=\"99\" />\n",
       "  <line x1=\"122\" y1=\"111\" x2=\"209\" y2=\"111\" />\n",
       "  <line x1=\"122\" y1=\"123\" x2=\"209\" y2=\"123\" />\n",
       "  <line x1=\"122\" y1=\"135\" x2=\"209\" y2=\"135\" />\n",
       "  <line x1=\"122\" y1=\"147\" x2=\"209\" y2=\"147\" style=\"stroke-width:2\" />\n",
       "\n",
       "  <!-- Vertical lines -->\n",
       "  <line x1=\"122\" y1=\"27\" x2=\"122\" y2=\"147\" style=\"stroke-width:2\" />\n",
       "  <line x1=\"134\" y1=\"27\" x2=\"134\" y2=\"147\" />\n",
       "  <line x1=\"146\" y1=\"27\" x2=\"146\" y2=\"147\" />\n",
       "  <line x1=\"158\" y1=\"27\" x2=\"158\" y2=\"147\" />\n",
       "  <line x1=\"170\" y1=\"27\" x2=\"170\" y2=\"147\" />\n",
       "  <line x1=\"182\" y1=\"27\" x2=\"182\" y2=\"147\" />\n",
       "  <line x1=\"194\" y1=\"27\" x2=\"194\" y2=\"147\" />\n",
       "  <line x1=\"206\" y1=\"27\" x2=\"206\" y2=\"147\" />\n",
       "  <line x1=\"209\" y1=\"27\" x2=\"209\" y2=\"147\" style=\"stroke-width:2\" />\n",
       "\n",
       "  <!-- Colored Rectangle -->\n",
       "  <polygon points=\"122.48470772202549,27.484707722025483 209.6465529135814,27.484707722025483 209.6465529135814,147.4847077220255 122.48470772202549,147.4847077220255\" style=\"fill:#ECB172A0;stroke-width:0\"/>\n",
       "\n",
       "  <!-- Text -->\n",
       "  <text x=\"166.065630\" y=\"167.484708\" font-size=\"1.0rem\" font-weight=\"100\" text-anchor=\"middle\" >929</text>\n",
       "  <text x=\"229.646553\" y=\"87.484708\" font-size=\"1.0rem\" font-weight=\"100\" text-anchor=\"middle\" transform=\"rotate(-90,229.646553,87.484708)\">1279</text>\n",
       "  <text x=\"98.742354\" y=\"153.742354\" font-size=\"1.0rem\" font-weight=\"100\" text-anchor=\"middle\" transform=\"rotate(45,98.742354,153.742354)\">498</text>\n",
       "</svg>\n",
       "        </td>\n",
       "    </tr>\n",
       "</table>"
      ],
      "text/plain": [
       "dask.array<from-zarr, shape=(1, 1, 498, 1279, 929), dtype=uint16, chunksize=(1, 1, 128, 128, 128), chunktype=numpy.ndarray>"
      ]
     },
     "execution_count": 12,
     "metadata": {},
     "output_type": "execute_result"
    }
   ],
   "source": [
    "lazy_data"
   ]
  },
  {
   "cell_type": "code",
   "execution_count": 13,
   "metadata": {},
   "outputs": [
    {
     "name": "stdout",
     "output_type": "stream",
     "text": [
      "Suggested number of CPUs: 48 - Provided n count workers 0\n"
     ]
    }
   ],
   "source": [
    "suggested_cpus = get_suggested_cpu_count()\n",
    "\n",
    "print(f\"Suggested number of CPUs: {suggested_cpus} - Provided n count workers {n_workers}\")"
   ]
  },
  {
   "cell_type": "code",
   "execution_count": 14,
   "metadata": {},
   "outputs": [
    {
     "name": "stdout",
     "output_type": "stream",
     "text": [
      "Adding overlap area to super chunk size: (512, 512, 512) - (572, 572, 572)\n"
     ]
    }
   ],
   "source": [
    "zarr_data_loader, zarr_dataset = create_data_loader(\n",
    "    lazy_data=lazy_data,\n",
    "    target_size_mb=target_size_mb,\n",
    "    prediction_chunksize=prediction_chunksize,\n",
    "    overlap_prediction_chunksize=overlap_prediction_chunksize,\n",
    "    n_workers=n_workers,\n",
    "    batch_size=batch_size,\n",
    "    dtype=np.float32,  # Allowed data type to process with pytorch cuda\n",
    "    super_chunksize=super_chunksize,\n",
    "    lazy_callback_fn=None,  # partial_lazy_deskewing,\n",
    "    logger=None,\n",
    "    device=None,\n",
    "    pin_memory=False,\n",
    "    drop_last=False,\n",
    "    override_suggested_cpus=False,\n",
    "    locked_array=True,\n",
    ")"
   ]
  },
  {
   "cell_type": "code",
   "execution_count": 15,
   "metadata": {},
   "outputs": [
    {
     "name": "stdout",
     "output_type": "stream",
     "text": [
      "(940, 2068, 1504)\n"
     ]
    }
   ],
   "source": [
    "output_volume_shape = estimate_output_volume(\n",
    "    image_shape=zarr_dataset.lazy_data.shape,\n",
    "    chunk_shape=prediction_chunksize,\n",
    "    overlap_per_axis=overlap_prediction_chunksize,\n",
    ")\n",
    "print(output_volume_shape)"
   ]
  },
  {
   "cell_type": "code",
   "execution_count": 16,
   "metadata": {},
   "outputs": [
    {
     "name": "stdout",
     "output_type": "stream",
     "text": [
      "[188 188 188]\n"
     ]
    }
   ],
   "source": [
    "prediction_chunksize_overlap = np.array(prediction_chunksize) + (\n",
    "    np.array(overlap_prediction_chunksize) * 2\n",
    ")\n",
    "print(prediction_chunksize_overlap)"
   ]
  },
  {
   "cell_type": "code",
   "execution_count": 4,
   "metadata": {},
   "outputs": [
    {
     "ename": "NameError",
     "evalue": "name 'zarr_data_loader' is not defined",
     "output_type": "error",
     "traceback": [
      "\u001b[0;31m---------------------------------------------------------------------------\u001b[0m",
      "\u001b[0;31mNameError\u001b[0m                                 Traceback (most recent call last)",
      "Cell \u001b[0;32mIn[4], line 1\u001b[0m\n\u001b[0;32m----> 1\u001b[0m \u001b[38;5;28;01mfor\u001b[39;00m i, sample \u001b[38;5;129;01min\u001b[39;00m \u001b[38;5;28menumerate\u001b[39m(\u001b[43mzarr_data_loader\u001b[49m):\n\u001b[1;32m      2\u001b[0m     \u001b[38;5;28;01mbreak\u001b[39;00m\n",
      "\u001b[0;31mNameError\u001b[0m: name 'zarr_data_loader' is not defined"
     ]
    }
   ],
   "source": [
    "for i, sample in enumerate(zarr_data_loader):\n",
    "    break"
   ]
  },
  {
   "cell_type": "code",
   "execution_count": 18,
   "metadata": {},
   "outputs": [
    {
     "data": {
      "text/plain": [
       "(158, 158, 158)"
      ]
     },
     "execution_count": 18,
     "metadata": {},
     "output_type": "execute_result"
    }
   ],
   "source": [
    "sample.batch_tensor[0, ...].numpy().shape"
   ]
  },
  {
   "cell_type": "code",
   "execution_count": 19,
   "metadata": {},
   "outputs": [
    {
     "data": {
      "text/plain": [
       "((slice(0, 542, None), slice(0, 542, None), slice(0, 542, None)),)"
      ]
     },
     "execution_count": 19,
     "metadata": {},
     "output_type": "execute_result"
    }
   ],
   "source": [
    "sample.batch_super_chunk"
   ]
  },
  {
   "cell_type": "markdown",
   "metadata": {},
   "source": [
    "## Visualization"
   ]
  },
  {
   "cell_type": "code",
   "execution_count": 2,
   "metadata": {},
   "outputs": [],
   "source": [
    "from vedo import Volume, show"
   ]
  },
  {
   "cell_type": "code",
   "execution_count": 3,
   "metadata": {},
   "outputs": [
    {
     "ename": "NameError",
     "evalue": "name 'sample' is not defined",
     "output_type": "error",
     "traceback": [
      "\u001b[0;31m---------------------------------------------------------------------------\u001b[0m",
      "\u001b[0;31mNameError\u001b[0m                                 Traceback (most recent call last)",
      "Cell \u001b[0;32mIn[3], line 1\u001b[0m\n\u001b[0;32m----> 1\u001b[0m \u001b[43msample\u001b[49m\n",
      "\u001b[0;31mNameError\u001b[0m: name 'sample' is not defined"
     ]
    }
   ],
   "source": [
    "sample"
   ]
  },
  {
   "cell_type": "code",
   "execution_count": null,
   "metadata": {},
   "outputs": [],
   "source": []
  },
  {
   "cell_type": "markdown",
   "metadata": {},
   "source": [
    "# Torchrun Distributed\n",
    "\n",
    "This section is intended to replicate some of the above processing in a multi-GPU environment.\n",
    "\n",
    "See `aind-large-scale-prediction/tests/multigpu_aind.py` for example run."
   ]
  }
 ],
 "metadata": {
  "kernelspec": {
   "display_name": "aind-env",
   "language": "python",
   "name": "python3"
  },
  "language_info": {
   "codemirror_mode": {
    "name": "ipython",
    "version": 3
   },
   "file_extension": ".py",
   "mimetype": "text/x-python",
   "name": "python",
   "nbconvert_exporter": "python",
   "pygments_lexer": "ipython3",
   "version": "3.9.21"
  }
 },
 "nbformat": 4,
 "nbformat_minor": 2
}
